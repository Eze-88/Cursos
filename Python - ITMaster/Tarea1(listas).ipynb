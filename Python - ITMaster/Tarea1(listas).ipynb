{
 "cells": [
  {
   "cell_type": "markdown",
   "metadata": {},
   "source": [
    "# Práctica 01"
   ]
  },
  {
   "cell_type": "markdown",
   "metadata": {},
   "source": [
    "1. Escribir una función que reciba una lista de numeros y retorne el segundo número más grande en la lista recibida.\n",
    "\n",
    "Ejemplo: \n",
    "\n",
    "Entrada: lista1 = [10,1,12,10,3,12,11,12,7]\n",
    "Salida: 10"
   ]
  },
  {
   "cell_type": "code",
   "execution_count": 1,
   "metadata": {},
   "outputs": [
    {
     "name": "stdout",
     "output_type": "stream",
     "text": [
      "12\n"
     ]
    }
   ],
   "source": [
    "lista = [10,1,12,10,3,12,11,12,7]\n",
    "\n",
    "def seg_mayor_lista (lista_orgnl):\n",
    "    #de esta forma la copia no altera la lista original\n",
    "    lista_nv = lista_orgnl[:]\n",
    "    #ordeno la lista neuva\n",
    "    lista_nv.sort()\n",
    "    #devuelvo el segundo mayor valor\n",
    "    return lista_nv [-2]\n",
    "\n",
    "seg_mayor = seg_mayor_lista(lista)\n",
    "print(seg_mayor)"
   ]
  },
  {
   "cell_type": "markdown",
   "metadata": {},
   "source": [
    "2. Dada una lista de números enteros, repetido o no, escribir una función que reciba una lista de numeros y retorne una tupla con: (mas_grande, mas_chico,segundo_mas_grande, segundo_mas_chico)\n",
    "\n",
    "Ejemplo: \n",
    "\n",
    "Entrada: lista = [12,45,45,2,20,41,31,10,2,8,6,4,45,2,41,3,4]\n",
    "Salida: (45,2,41,4)"
   ]
  },
  {
   "cell_type": "code",
   "execution_count": 19,
   "metadata": {},
   "outputs": [],
   "source": [
    "lista = [12,45,45,2,20,41,31,10,2,8,6,4,45,2,41,4]\n"
   ]
  },
  {
   "cell_type": "markdown",
   "metadata": {},
   "source": [
    "3. Hacer una función que dada una lista de numeros enteros retorne una tupla con la trama ordenada mas larga.\n",
    "\n",
    "Ejemplo: \n",
    "\n",
    "Entrada: lista = [12,45,45,2,20,41,31,10,2,8,6,6,6,30,44,4,45,2,41,3,4]\n",
    "Salida: (2,8,6,6,6,30,44)"
   ]
  },
  {
   "cell_type": "code",
   "execution_count": 20,
   "metadata": {},
   "outputs": [],
   "source": [
    "lista = [12,45,45,2,20,41,31,10,2,8,6,30,44,4,45,2,41,3,4]"
   ]
  },
  {
   "cell_type": "markdown",
   "metadata": {},
   "source": [
    "4. Hacer una función que genere una lista desordenada que contenga 3 veces cada numero entre 1 y 1000 y use la función del ejercicio anterior para obtener la tupla con la trama ordenada mas larga."
   ]
  },
  {
   "cell_type": "code",
   "execution_count": null,
   "metadata": {},
   "outputs": [],
   "source": []
  }
 ],
 "metadata": {
  "kernelspec": {
   "display_name": "Python 3",
   "language": "python",
   "name": "python3"
  },
  "language_info": {
   "codemirror_mode": {
    "name": "ipython",
    "version": 3
   },
   "file_extension": ".py",
   "mimetype": "text/x-python",
   "name": "python",
   "nbconvert_exporter": "python",
   "pygments_lexer": "ipython3",
   "version": "3.8.8"
  }
 },
 "nbformat": 4,
 "nbformat_minor": 4
}
